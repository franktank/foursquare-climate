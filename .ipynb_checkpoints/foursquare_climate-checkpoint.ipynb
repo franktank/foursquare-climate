{
 "cells": [
  {
   "cell_type": "code",
   "execution_count": 75,
   "metadata": {},
   "outputs": [
    {
     "name": "stderr",
     "output_type": "stream",
     "text": [
      "/Users/frankyliang/anaconda3/lib/python3.6/site-packages/IPython/core/interactiveshell.py:2698: DtypeWarning: Columns (8,10,11,14,15,20,23,25,40,68,84,85,86,87) have mixed types. Specify dtype option on import or set low_memory=False.\n",
      "  interactivity=interactivity, compiler=compiler, result=result)\n"
     ]
    }
   ],
   "source": [
    "import pandas as pd\n",
    "\n",
    "foursquare_data = pd.read_csv(\"./data/foursquare-nyc-and-tokyo-check-ins/dataset_TSMC2014_NYC.csv\")\n",
    "climate_data = pd.read_csv(\"./data/1087533.csv\")"
   ]
  },
  {
   "cell_type": "code",
   "execution_count": 76,
   "metadata": {},
   "outputs": [],
   "source": [
    "pd.options.display.max_columns = 999\n",
    "climate_data.HOURLYPrecip = climate_data.HOURLYPrecip.fillna(0.00).replace('T', '0.00').str.replace(r\"[a-zA-Z]\",'').astype(float)"
   ]
  },
  {
   "cell_type": "code",
   "execution_count": 77,
   "metadata": {},
   "outputs": [
    {
     "data": {
      "text/plain": [
       "0        NaN\n",
       "1        NaN\n",
       "2        0.0\n",
       "3        0.0\n",
       "4        0.0\n",
       "5        NaN\n",
       "6        0.0\n",
       "7        0.0\n",
       "8        0.0\n",
       "9        NaN\n",
       "10       0.0\n",
       "11       0.0\n",
       "12       0.0\n",
       "13       NaN\n",
       "14       0.0\n",
       "15       0.0\n",
       "16       0.0\n",
       "17       NaN\n",
       "18       0.0\n",
       "19       0.0\n",
       "20       0.0\n",
       "21       NaN\n",
       "22       0.0\n",
       "23       0.0\n",
       "24       0.0\n",
       "25       NaN\n",
       "26       0.0\n",
       "27       0.0\n",
       "28       0.0\n",
       "29       NaN\n",
       "        ... \n",
       "33659    0.0\n",
       "33660    NaN\n",
       "33661    0.0\n",
       "33662    0.0\n",
       "33663    NaN\n",
       "33664    0.0\n",
       "33665    NaN\n",
       "33666    0.0\n",
       "33667    NaN\n",
       "33668    0.0\n",
       "33669    NaN\n",
       "33670    0.0\n",
       "33671    0.0\n",
       "33672    0.0\n",
       "33673    NaN\n",
       "33674    0.0\n",
       "33675    0.0\n",
       "33676    0.0\n",
       "33677    NaN\n",
       "33678    0.0\n",
       "33679    0.0\n",
       "33680    0.0\n",
       "33681    NaN\n",
       "33682    0.0\n",
       "33683    0.0\n",
       "33684    0.0\n",
       "33685    NaN\n",
       "33686    0.0\n",
       "33687    0.0\n",
       "33688    NaN\n",
       "Name: HOURLYPrecip, Length: 33689, dtype: float64"
      ]
     },
     "execution_count": 77,
     "metadata": {},
     "output_type": "execute_result"
    }
   ],
   "source": [
    "climate_data.HOURLYPrecip"
   ]
  },
  {
   "cell_type": "code",
   "execution_count": 78,
   "metadata": {},
   "outputs": [
    {
     "data": {
      "text/plain": [
       "229      0.01\n",
       "230      0.01\n",
       "232      0.02\n",
       "234      0.01\n",
       "349      0.21\n",
       "350      0.23\n",
       "351      0.01\n",
       "352      0.12\n",
       "354      0.02\n",
       "368      0.03\n",
       "369      0.03\n",
       "370      0.04\n",
       "371      0.08\n",
       "373      0.11\n",
       "374      0.10\n",
       "375      0.12\n",
       "377      0.14\n",
       "378      0.04\n",
       "380      0.06\n",
       "381      0.08\n",
       "382      0.06\n",
       "383      0.17\n",
       "384      0.10\n",
       "385      0.14\n",
       "386      0.16\n",
       "387      0.19\n",
       "389      0.22\n",
       "391      0.02\n",
       "392      0.03\n",
       "394      0.20\n",
       "         ... \n",
       "33383    0.05\n",
       "33384    0.04\n",
       "33386    0.01\n",
       "33387    0.01\n",
       "33389    0.01\n",
       "33457    0.03\n",
       "33458    0.08\n",
       "33460    0.05\n",
       "33461    0.02\n",
       "33462    0.07\n",
       "33463    0.09\n",
       "33464    0.12\n",
       "33465    0.06\n",
       "33466    0.12\n",
       "33467    0.11\n",
       "33469    0.03\n",
       "33470    0.04\n",
       "33471    0.04\n",
       "33473    0.07\n",
       "33474    0.01\n",
       "33475    0.01\n",
       "33479    0.01\n",
       "33485    0.01\n",
       "33486    0.01\n",
       "33487    0.01\n",
       "33488    0.01\n",
       "33496    0.01\n",
       "33497    0.01\n",
       "33581    0.01\n",
       "33583    0.01\n",
       "Name: HOURLYPrecip, Length: 2786, dtype: float64"
      ]
     },
     "execution_count": 78,
     "metadata": {},
     "output_type": "execute_result"
    }
   ],
   "source": [
    "climate_data.HOURLYPrecip[climate_data.HOURLYPrecip > 0]"
   ]
  },
  {
   "cell_type": "code",
   "execution_count": 90,
   "metadata": {},
   "outputs": [],
   "source": [
    "climate_data.DATE = pd.to_datetime(climate_data.DATE, utc=True)"
   ]
  },
  {
   "cell_type": "code",
   "execution_count": 99,
   "metadata": {},
   "outputs": [
    {
     "data": {
      "text/plain": [
       "0       2012-04-12 00:45:00\n",
       "1       2012-04-12 01:00:00\n",
       "2       2012-04-12 01:45:00\n",
       "3       2012-04-12 02:45:00\n",
       "4       2012-04-12 03:45:00\n",
       "5       2012-04-12 04:00:00\n",
       "6       2012-04-12 04:45:00\n",
       "7       2012-04-12 05:45:00\n",
       "8       2012-04-12 06:45:00\n",
       "9       2012-04-12 07:00:00\n",
       "10      2012-04-12 07:45:00\n",
       "11      2012-04-12 08:45:00\n",
       "12      2012-04-12 09:45:00\n",
       "13      2012-04-12 10:00:00\n",
       "14      2012-04-12 10:45:00\n",
       "15      2012-04-12 11:45:00\n",
       "16      2012-04-12 12:45:00\n",
       "17      2012-04-12 13:00:00\n",
       "18      2012-04-12 13:45:00\n",
       "19      2012-04-12 14:45:00\n",
       "20      2012-04-12 15:45:00\n",
       "21      2012-04-12 16:00:00\n",
       "22      2012-04-12 16:45:00\n",
       "23      2012-04-12 17:45:00\n",
       "24      2012-04-12 18:45:00\n",
       "25      2012-04-12 19:00:00\n",
       "26      2012-04-12 19:45:00\n",
       "27      2012-04-12 20:45:00\n",
       "28      2012-04-12 21:45:00\n",
       "29      2012-04-12 22:00:00\n",
       "                ...        \n",
       "33659   2013-02-16 04:45:00\n",
       "33660   2013-02-16 05:45:00\n",
       "33661   2013-02-16 05:45:00\n",
       "33662   2013-02-16 06:45:00\n",
       "33663   2013-02-16 07:00:00\n",
       "33664   2013-02-16 07:45:00\n",
       "33665   2013-02-16 08:45:00\n",
       "33666   2013-02-16 08:45:00\n",
       "33667   2013-02-16 09:45:00\n",
       "33668   2013-02-16 09:45:00\n",
       "33669   2013-02-16 10:00:00\n",
       "33670   2013-02-16 10:45:00\n",
       "33671   2013-02-16 11:45:00\n",
       "33672   2013-02-16 12:45:00\n",
       "33673   2013-02-16 13:00:00\n",
       "33674   2013-02-16 13:45:00\n",
       "33675   2013-02-16 14:45:00\n",
       "33676   2013-02-16 15:45:00\n",
       "33677   2013-02-16 16:00:00\n",
       "33678   2013-02-16 16:45:00\n",
       "33679   2013-02-16 17:45:00\n",
       "33680   2013-02-16 18:45:00\n",
       "33681   2013-02-16 19:00:00\n",
       "33682   2013-02-16 19:45:00\n",
       "33683   2013-02-16 20:45:00\n",
       "33684   2013-02-16 21:45:00\n",
       "33685   2013-02-16 22:00:00\n",
       "33686   2013-02-16 22:45:00\n",
       "33687   2013-02-16 23:45:00\n",
       "33688   2013-02-17 00:00:00\n",
       "Name: DATE, Length: 33689, dtype: datetime64[ns]"
      ]
     },
     "execution_count": 99,
     "metadata": {},
     "output_type": "execute_result"
    }
   ],
   "source": [
    "climate_data.DATE.dt.round('15min')"
   ]
  },
  {
   "cell_type": "code",
   "execution_count": 100,
   "metadata": {},
   "outputs": [],
   "source": [
    " foursquare_data.utcTimestamp = pd.to_datetime(foursquare_data.utcTimestamp).dt.round('15min')"
   ]
  },
  {
   "cell_type": "code",
   "execution_count": null,
   "metadata": {
    "collapsed": true
   },
   "outputs": [],
   "source": []
  }
 ],
 "metadata": {
  "kernelspec": {
   "display_name": "Python 3",
   "language": "python",
   "name": "python3"
  },
  "language_info": {
   "codemirror_mode": {
    "name": "ipython",
    "version": 3
   },
   "file_extension": ".py",
   "mimetype": "text/x-python",
   "name": "python",
   "nbconvert_exporter": "python",
   "pygments_lexer": "ipython3",
   "version": "3.6.2"
  }
 },
 "nbformat": 4,
 "nbformat_minor": 2
}
